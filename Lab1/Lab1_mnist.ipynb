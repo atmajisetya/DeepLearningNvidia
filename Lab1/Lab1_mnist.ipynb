{
  "nbformat": 4,
  "nbformat_minor": 0,
  "metadata": {
    "colab": {
      "name": "Lab1_mnist.ipynb",
      "provenance": [],
      "collapsed_sections": []
    },
    "kernelspec": {
      "name": "python3",
      "display_name": "Python 3"
    },
    "language_info": {
      "name": "python"
    }
  },
  "cells": [
    {
      "cell_type": "markdown",
      "source": [
        "# Image Classification dengan MNIST Dataset\n"
      ],
      "metadata": {
        "id": "M_oI5rQhUDNq"
      }
    },
    {
      "cell_type": "markdown",
      "source": [
        "## The Problem: Image Classification"
      ],
      "metadata": {
        "id": "8r3OKpiAaMeK"
      }
    },
    {
      "cell_type": "markdown",
      "source": [
        "Dalam traditional programming, programmer mampu untuk mengartikulasikan aturan-aturan dan kondisi di dalam kodenya yang dapat digunakan program untuk *act in the correct way* untuk menyelesaikan suatu tugas.\n",
        "\n",
        "Image classification merupakan permasalahan dimana program diminta untuk secara tepat mengklasifikasikan sebuah citra kedalam kelas yang tepat. Dalam kasus ini, programmer hampir mustahil untuk menentukan aturan-aturan dan kondisi untuk dapat secara tepat melakukan klasifikasi variasi citra yang tinggi, terutama untuk citra yang belum pernah dilihat sebelumnya.\n"
      ],
      "metadata": {
        "id": "T-Jps0PwUfBU"
      }
    },
    {
      "cell_type": "markdown",
      "source": [
        "## The Solution: Deep Learning"
      ],
      "metadata": {
        "id": "q8e6eHibagzt"
      }
    },
    {
      "cell_type": "markdown",
      "source": [
        "Deep Learning (DL) sangat baik dalam pengenalan pola (pattern recognition) melalui trial and error. Dengan melakukan training pada deep learning dengan data yang cukup (cukup banyak dan cukup bervariasi), serta menyediakan feedback kepada model DL mengenai performanya selama training, model DL dapat mengidentifikasi sekumpulan aturan dan kondisi untuk act in the correct way, meskipun hal ini memerlukan iterasi yang banyak."
      ],
      "metadata": {
        "id": "gRL4jUTaapRh"
      }
    },
    {
      "cell_type": "markdown",
      "source": [
        "## MNIST Dataset"
      ],
      "metadata": {
        "id": "mzM9EiwfauGa"
      }
    },
    {
      "cell_type": "markdown",
      "source": [
        "Dataset yang berisi 70,000 citra hitam putih tulisan tangan angka dari 0 sampai 9. Kemampuan deep learning untuk secara akurat melakukan image classification pada MNIST dataset merupakan salah satu momen yang bersejarah. Pada saat ini, melakukan image classification pada MNIST menjadi semacam \"hello world\" untuk deeep learning"
      ],
      "metadata": {
        "id": "vFzGr3jLb6cp"
      }
    },
    {
      "cell_type": "markdown",
      "source": [
        "## Training and Validation Data and Labels"
      ],
      "metadata": {
        "id": "FZcfqZp85oon"
      }
    },
    {
      "cell_type": "markdown",
      "source": [
        "Ketika bekerja dengan citra untuk deep learning, diperlukan citra (dilambangkan dengan **x**), dan correct label (dilambangkan dengan **y**). Kemudian dataset (sekumpulan examples pair of x and y) dibagi kedalam data untuk training dan data untuk validation. Data validation digunakan untuk mengevaluasi performa dari model setelah ditrain pada data training"
      ],
      "metadata": {
        "id": "s-emo2dQ5yY7"
      }
    },
    {
      "cell_type": "markdown",
      "source": [
        "## Objectives\n",
        "\n",
        "\n",
        "\n",
        "*   Menggunakan Keras API untuk load MNIST dataset dan mempersiapkan dataset untuk melakukan training\n",
        "*   Membuat simpel neural network untuk melakukan image classification\n",
        "*   Train neural network\n",
        "*   Mengamati performa dari neural network yang sudah ditrain\n",
        "\n",
        "\n",
        "\n",
        "\n"
      ],
      "metadata": {
        "id": "KBiUGwv82_Mp"
      }
    },
    {
      "cell_type": "markdown",
      "source": [
        "## 1. Data Preparation"
      ],
      "metadata": {
        "id": "wOpkAvc537Qx"
      }
    },
    {
      "cell_type": "markdown",
      "source": [
        "Pada lab ini akan digunakan framework Tensorflow 2, spesifiknya dengan Keras API. Keras mempunyai banyak built in function yang dirancang untuk computer vision tasks. Keras juga mmeiliki banyak helper method untuk banyak dataset umum, seperti MNIST.\n",
        "\n",
        "Pertama, import modul keras dataset untuk MNIST"
      ],
      "metadata": {
        "id": "VbLZBNqA3s9h"
      }
    },
    {
      "cell_type": "code",
      "source": [
        "from tensorflow.keras.datasets import mnist"
      ],
      "metadata": {
        "id": "TiML8YTa3hvH"
      },
      "execution_count": null,
      "outputs": []
    },
    {
      "cell_type": "markdown",
      "source": [
        "Dengan modul **mnist**, kita dapat dengan mudah load MNIST data yang sudah dipartisi kedalam citra dan label untuk training set dan validation set."
      ],
      "metadata": {
        "id": "ORsGgs6h5KMg"
      }
    },
    {
      "cell_type": "code",
      "source": [
        "# split data kedalam train and validation sets\n",
        "(x_train, y_train), (x_valid, y_valid) = mnist.load_data()"
      ],
      "metadata": {
        "colab": {
          "base_uri": "https://localhost:8080/"
        },
        "id": "E1DDjRsX5GP0",
        "outputId": "857044c9-8612-4309-e7fa-a476eb36457b"
      },
      "execution_count": null,
      "outputs": [
        {
          "output_type": "stream",
          "name": "stdout",
          "text": [
            "Downloading data from https://storage.googleapis.com/tensorflow/tf-keras-datasets/mnist.npz\n",
            "11493376/11490434 [==============================] - 0s 0us/step\n",
            "11501568/11490434 [==============================] - 0s 0us/step\n"
          ]
        }
      ]
    },
    {
      "cell_type": "markdown",
      "source": [
        "Setelah data diload, kita dapat mengeksplorasi dataset untuk melihat ukuran dari dataset. Cell code dibawah digunakan untuk melihat ukuran/dimensi dari x_train dan x_valid. Dari 70,000 examples, displit menjadi 60,000 untuk data training dan 10000 untuk data validaton. Ukuran dari citra 28x28 pixel (2D array)."
      ],
      "metadata": {
        "id": "O2sOcHIC63qy"
      }
    },
    {
      "cell_type": "code",
      "source": [
        "print(\"dimensi x_train:\", x_train.shape)\n",
        "print(\"dimensi x_valid:\", x_valid.shape)"
      ],
      "metadata": {
        "colab": {
          "base_uri": "https://localhost:8080/"
        },
        "id": "_zJ4FAAr6vmA",
        "outputId": "911974e0-dabb-4846-c74e-606382c6386d"
      },
      "execution_count": null,
      "outputs": [
        {
          "output_type": "stream",
          "name": "stdout",
          "text": [
            "dimensi x_train: (60000, 28, 28)\n",
            "dimensi x_valid: (10000, 28, 28)\n"
          ]
        }
      ]
    },
    {
      "cell_type": "markdown",
      "source": [
        "citra 28x28 pixel direpresentasikan dengan kumpulan unsigned 8-bit integer dengan nilai antara 0 dan 255. nilai pixel 0 merepresentasikan warna hitam, sedangkan nilai 255 merepresentasikan warna putih"
      ],
      "metadata": {
        "id": "8qMSoQvP8Ox0"
      }
    },
    {
      "cell_type": "code",
      "source": [
        "x_train.dtype"
      ],
      "metadata": {
        "colab": {
          "base_uri": "https://localhost:8080/"
        },
        "id": "PSaZXO3_7Y9S",
        "outputId": "c1b259a6-68ff-4b0c-9a87-827c3c5386b2"
      },
      "execution_count": null,
      "outputs": [
        {
          "output_type": "execute_result",
          "data": {
            "text/plain": [
              "dtype('uint8')"
            ]
          },
          "metadata": {},
          "execution_count": 5
        }
      ]
    },
    {
      "cell_type": "code",
      "source": [
        "x_train.min()"
      ],
      "metadata": {
        "colab": {
          "base_uri": "https://localhost:8080/"
        },
        "id": "m9J2zVC38A0C",
        "outputId": "84c7afbe-0700-485a-bb49-bb64067ee145"
      },
      "execution_count": null,
      "outputs": [
        {
          "output_type": "execute_result",
          "data": {
            "text/plain": [
              "0"
            ]
          },
          "metadata": {},
          "execution_count": 6
        }
      ]
    },
    {
      "cell_type": "code",
      "source": [
        "x_train.max()"
      ],
      "metadata": {
        "colab": {
          "base_uri": "https://localhost:8080/"
        },
        "id": "ywJbBaHe8Cve",
        "outputId": "c82bba56-1cdd-4760-cc5d-02f631c7de5f"
      },
      "execution_count": null,
      "outputs": [
        {
          "output_type": "execute_result",
          "data": {
            "text/plain": [
              "255"
            ]
          },
          "metadata": {},
          "execution_count": 7
        }
      ]
    },
    {
      "cell_type": "code",
      "source": [
        "x_train[0]"
      ],
      "metadata": {
        "colab": {
          "base_uri": "https://localhost:8080/"
        },
        "id": "8GJuNzHA8Es2",
        "outputId": "02f192a2-8249-4c7f-f9d8-ffb227a45bd1"
      },
      "execution_count": null,
      "outputs": [
        {
          "output_type": "execute_result",
          "data": {
            "text/plain": [
              "array([[  0,   0,   0,   0,   0,   0,   0,   0,   0,   0,   0,   0,   0,\n",
              "          0,   0,   0,   0,   0,   0,   0,   0,   0,   0,   0,   0,   0,\n",
              "          0,   0],\n",
              "       [  0,   0,   0,   0,   0,   0,   0,   0,   0,   0,   0,   0,   0,\n",
              "          0,   0,   0,   0,   0,   0,   0,   0,   0,   0,   0,   0,   0,\n",
              "          0,   0],\n",
              "       [  0,   0,   0,   0,   0,   0,   0,   0,   0,   0,   0,   0,   0,\n",
              "          0,   0,   0,   0,   0,   0,   0,   0,   0,   0,   0,   0,   0,\n",
              "          0,   0],\n",
              "       [  0,   0,   0,   0,   0,   0,   0,   0,   0,   0,   0,   0,   0,\n",
              "          0,   0,   0,   0,   0,   0,   0,   0,   0,   0,   0,   0,   0,\n",
              "          0,   0],\n",
              "       [  0,   0,   0,   0,   0,   0,   0,   0,   0,   0,   0,   0,   0,\n",
              "          0,   0,   0,   0,   0,   0,   0,   0,   0,   0,   0,   0,   0,\n",
              "          0,   0],\n",
              "       [  0,   0,   0,   0,   0,   0,   0,   0,   0,   0,   0,   0,   3,\n",
              "         18,  18,  18, 126, 136, 175,  26, 166, 255, 247, 127,   0,   0,\n",
              "          0,   0],\n",
              "       [  0,   0,   0,   0,   0,   0,   0,   0,  30,  36,  94, 154, 170,\n",
              "        253, 253, 253, 253, 253, 225, 172, 253, 242, 195,  64,   0,   0,\n",
              "          0,   0],\n",
              "       [  0,   0,   0,   0,   0,   0,   0,  49, 238, 253, 253, 253, 253,\n",
              "        253, 253, 253, 253, 251,  93,  82,  82,  56,  39,   0,   0,   0,\n",
              "          0,   0],\n",
              "       [  0,   0,   0,   0,   0,   0,   0,  18, 219, 253, 253, 253, 253,\n",
              "        253, 198, 182, 247, 241,   0,   0,   0,   0,   0,   0,   0,   0,\n",
              "          0,   0],\n",
              "       [  0,   0,   0,   0,   0,   0,   0,   0,  80, 156, 107, 253, 253,\n",
              "        205,  11,   0,  43, 154,   0,   0,   0,   0,   0,   0,   0,   0,\n",
              "          0,   0],\n",
              "       [  0,   0,   0,   0,   0,   0,   0,   0,   0,  14,   1, 154, 253,\n",
              "         90,   0,   0,   0,   0,   0,   0,   0,   0,   0,   0,   0,   0,\n",
              "          0,   0],\n",
              "       [  0,   0,   0,   0,   0,   0,   0,   0,   0,   0,   0, 139, 253,\n",
              "        190,   2,   0,   0,   0,   0,   0,   0,   0,   0,   0,   0,   0,\n",
              "          0,   0],\n",
              "       [  0,   0,   0,   0,   0,   0,   0,   0,   0,   0,   0,  11, 190,\n",
              "        253,  70,   0,   0,   0,   0,   0,   0,   0,   0,   0,   0,   0,\n",
              "          0,   0],\n",
              "       [  0,   0,   0,   0,   0,   0,   0,   0,   0,   0,   0,   0,  35,\n",
              "        241, 225, 160, 108,   1,   0,   0,   0,   0,   0,   0,   0,   0,\n",
              "          0,   0],\n",
              "       [  0,   0,   0,   0,   0,   0,   0,   0,   0,   0,   0,   0,   0,\n",
              "         81, 240, 253, 253, 119,  25,   0,   0,   0,   0,   0,   0,   0,\n",
              "          0,   0],\n",
              "       [  0,   0,   0,   0,   0,   0,   0,   0,   0,   0,   0,   0,   0,\n",
              "          0,  45, 186, 253, 253, 150,  27,   0,   0,   0,   0,   0,   0,\n",
              "          0,   0],\n",
              "       [  0,   0,   0,   0,   0,   0,   0,   0,   0,   0,   0,   0,   0,\n",
              "          0,   0,  16,  93, 252, 253, 187,   0,   0,   0,   0,   0,   0,\n",
              "          0,   0],\n",
              "       [  0,   0,   0,   0,   0,   0,   0,   0,   0,   0,   0,   0,   0,\n",
              "          0,   0,   0,   0, 249, 253, 249,  64,   0,   0,   0,   0,   0,\n",
              "          0,   0],\n",
              "       [  0,   0,   0,   0,   0,   0,   0,   0,   0,   0,   0,   0,   0,\n",
              "          0,  46, 130, 183, 253, 253, 207,   2,   0,   0,   0,   0,   0,\n",
              "          0,   0],\n",
              "       [  0,   0,   0,   0,   0,   0,   0,   0,   0,   0,   0,   0,  39,\n",
              "        148, 229, 253, 253, 253, 250, 182,   0,   0,   0,   0,   0,   0,\n",
              "          0,   0],\n",
              "       [  0,   0,   0,   0,   0,   0,   0,   0,   0,   0,  24, 114, 221,\n",
              "        253, 253, 253, 253, 201,  78,   0,   0,   0,   0,   0,   0,   0,\n",
              "          0,   0],\n",
              "       [  0,   0,   0,   0,   0,   0,   0,   0,  23,  66, 213, 253, 253,\n",
              "        253, 253, 198,  81,   2,   0,   0,   0,   0,   0,   0,   0,   0,\n",
              "          0,   0],\n",
              "       [  0,   0,   0,   0,   0,   0,  18, 171, 219, 253, 253, 253, 253,\n",
              "        195,  80,   9,   0,   0,   0,   0,   0,   0,   0,   0,   0,   0,\n",
              "          0,   0],\n",
              "       [  0,   0,   0,   0,  55, 172, 226, 253, 253, 253, 253, 244, 133,\n",
              "         11,   0,   0,   0,   0,   0,   0,   0,   0,   0,   0,   0,   0,\n",
              "          0,   0],\n",
              "       [  0,   0,   0,   0, 136, 253, 253, 253, 212, 135, 132,  16,   0,\n",
              "          0,   0,   0,   0,   0,   0,   0,   0,   0,   0,   0,   0,   0,\n",
              "          0,   0],\n",
              "       [  0,   0,   0,   0,   0,   0,   0,   0,   0,   0,   0,   0,   0,\n",
              "          0,   0,   0,   0,   0,   0,   0,   0,   0,   0,   0,   0,   0,\n",
              "          0,   0],\n",
              "       [  0,   0,   0,   0,   0,   0,   0,   0,   0,   0,   0,   0,   0,\n",
              "          0,   0,   0,   0,   0,   0,   0,   0,   0,   0,   0,   0,   0,\n",
              "          0,   0],\n",
              "       [  0,   0,   0,   0,   0,   0,   0,   0,   0,   0,   0,   0,   0,\n",
              "          0,   0,   0,   0,   0,   0,   0,   0,   0,   0,   0,   0,   0,\n",
              "          0,   0]], dtype=uint8)"
            ]
          },
          "metadata": {},
          "execution_count": 8
        }
      ]
    },
    {
      "cell_type": "code",
      "source": [
        "x_train[0].shape"
      ],
      "metadata": {
        "colab": {
          "base_uri": "https://localhost:8080/"
        },
        "id": "TW6WCcJ18GKs",
        "outputId": "c858d7e4-5027-414f-97de-edb2435ab511"
      },
      "execution_count": null,
      "outputs": [
        {
          "output_type": "execute_result",
          "data": {
            "text/plain": [
              "(28, 28)"
            ]
          },
          "metadata": {},
          "execution_count": 9
        }
      ]
    },
    {
      "cell_type": "markdown",
      "source": [
        "Terlihat bahwa baris pertama dari x_train berupa 2d array dengan ukuran (28 baris/heigh, 28 kolom/width). Array 2d tersebut bisa kita render menggunakan matplotlib sebagai citra hitam putih"
      ],
      "metadata": {
        "id": "376zaAy38pdv"
      }
    },
    {
      "cell_type": "code",
      "source": [
        "import matplotlib.pyplot as plt\n",
        "\n",
        "image = x_train[0]\n",
        "plt.imshow(image, cmap='gray')"
      ],
      "metadata": {
        "colab": {
          "base_uri": "https://localhost:8080/",
          "height": 282
        },
        "id": "58eJ2D_L8zTx",
        "outputId": "a80ff5c6-8872-4112-c0d1-228c88397ff7"
      },
      "execution_count": null,
      "outputs": [
        {
          "output_type": "execute_result",
          "data": {
            "text/plain": [
              "<matplotlib.image.AxesImage at 0x7f59dc73b550>"
            ]
          },
          "metadata": {},
          "execution_count": 10
        },
        {
          "output_type": "display_data",
          "data": {
            "image/png": "[encoded data removed]",
            "text/plain": [
              "<Figure size 432x288 with 1 Axes>"
            ]
          },
          "metadata": {
            "needs_background": "light"
          }
        }
      ]
    },
    {
      "cell_type": "markdown",
      "source": [
        "Karena citra tidak cukup jelas apakah angka 5 atau 3, kita dapat melihat jawabannya (correct label) pada pasangan y_train untuk data tersebut"
      ],
      "metadata": {
        "id": "OPh15a9X9q9K"
      }
    },
    {
      "cell_type": "code",
      "source": [
        "y_train[0]"
      ],
      "metadata": {
        "colab": {
          "base_uri": "https://localhost:8080/"
        },
        "id": "FiN-dywJ9oe6",
        "outputId": "638f6e04-3532-414d-9e58-2abc4682e5af"
      },
      "execution_count": null,
      "outputs": [
        {
          "output_type": "execute_result",
          "data": {
            "text/plain": [
              "5"
            ]
          },
          "metadata": {},
          "execution_count": 11
        }
      ]
    },
    {
      "cell_type": "markdown",
      "source": [
        "Dalam image classification problem, sebelum data digunakan untuk training perlu dilakukan persiapan terlebih dahulu dengan 3 tasks berikut:\n",
        "\n",
        "1.   Flatten the image data\n",
        "2.   Normalize the image data\n",
        "3.   Categorize the labels\n",
        "\n",
        "\n",
        "\n"
      ],
      "metadata": {
        "id": "xFhiKk_3-LKw"
      }
    },
    {
      "cell_type": "markdown",
      "source": [
        "Flattening the image data berarti kita unroll 2d array (28, 28) kedalam single array berisi 784 pixel"
      ],
      "metadata": {
        "id": "xGA8Bc0f-8l0"
      }
    },
    {
      "cell_type": "code",
      "source": [
        "x_train = x_train.reshape(60000, 784)\n",
        "x_valid = x_valid.reshape(10000, 784)"
      ],
      "metadata": {
        "id": "2PFHRnzF-D9T"
      },
      "execution_count": null,
      "outputs": []
    },
    {
      "cell_type": "code",
      "source": [
        "# memastikan image data telah direshape\n",
        "# x_train sekarang berisi 60000 citra dimana setiap citra berupa 1d array 784 pixel\n",
        "\n",
        "x_train.shape"
      ],
      "metadata": {
        "colab": {
          "base_uri": "https://localhost:8080/"
        },
        "id": "hKnzvPe0_XAV",
        "outputId": "d36e5676-28e5-42d9-f633-da8cdb1a1354"
      },
      "execution_count": null,
      "outputs": [
        {
          "output_type": "execute_result",
          "data": {
            "text/plain": [
              "(60000, 784)"
            ]
          },
          "metadata": {},
          "execution_count": 13
        }
      ]
    },
    {
      "cell_type": "markdown",
      "source": [
        "Model Deep Learning lebih baik untuk bekerja dengan floating point numbers antara 0 dan 1. Normalization yaitu mengonversi image data (nilainya 0-255) kedalam floating point yang nilanya antara 0 dan 1. Pendekatan paling sederhana untuk melakukan ini yaitu kita bagi semua nilai pixel dengan 255 (range max-min = 255-0)"
      ],
      "metadata": {
        "id": "kjiBlDWuAKD8"
      }
    },
    {
      "cell_type": "code",
      "source": [
        "x_train = x_train / 255\n",
        "x_valid = x_valid / 255"
      ],
      "metadata": {
        "id": "yDH-RFFB_2Z3"
      },
      "execution_count": null,
      "outputs": []
    },
    {
      "cell_type": "code",
      "source": [
        "x_train.dtype"
      ],
      "metadata": {
        "colab": {
          "base_uri": "https://localhost:8080/"
        },
        "id": "eZnFWuJ2Ay5a",
        "outputId": "2ab3faad-0bc5-493c-bf9c-65b8adaf3b69"
      },
      "execution_count": null,
      "outputs": [
        {
          "output_type": "execute_result",
          "data": {
            "text/plain": [
              "dtype('float64')"
            ]
          },
          "metadata": {},
          "execution_count": 15
        }
      ]
    },
    {
      "cell_type": "code",
      "source": [
        "x_train.min()"
      ],
      "metadata": {
        "colab": {
          "base_uri": "https://localhost:8080/"
        },
        "id": "udyWFlmZA2a_",
        "outputId": "a81c5944-f967-4de3-e5c1-60882444fb9b"
      },
      "execution_count": null,
      "outputs": [
        {
          "output_type": "execute_result",
          "data": {
            "text/plain": [
              "0.0"
            ]
          },
          "metadata": {},
          "execution_count": 16
        }
      ]
    },
    {
      "cell_type": "code",
      "source": [
        "x_train.max()"
      ],
      "metadata": {
        "colab": {
          "base_uri": "https://localhost:8080/"
        },
        "id": "dedPpr5eA4sn",
        "outputId": "d15ec8e5-2b9c-4d5b-87a4-4292347db679"
      },
      "execution_count": null,
      "outputs": [
        {
          "output_type": "execute_result",
          "data": {
            "text/plain": [
              "1.0"
            ]
          },
          "metadata": {},
          "execution_count": 17
        }
      ]
    },
    {
      "cell_type": "markdown",
      "source": [
        "Nilai dari label merupakan nilai dari 0 hingga 9. Kita perlu mengubah nilai ini menjadi categorical. Salah satu pendekatan yaitu one-hot encoding dimana nilai label berupa array berisi sejumlah kelas, dalam hal ini array 10 elemen. Kemudian untuk nilai label tertentu (misal 5), kita set nilai 1 untuk indeks ke 5 sedankgan nilai untuk yang lain kita set dengan nilai 0. Sehingga dari nilai label 5 diubah menjadi [0., 0., 0., 0., 0., 1., 0., 0., 0., 0.]"
      ],
      "metadata": {
        "id": "ULigt1E6A-VX"
      }
    },
    {
      "cell_type": "code",
      "source": [
        "import tensorflow.keras as keras\n",
        "num_categories = 10\n",
        "\n",
        "y_train = keras.utils.to_categorical(y_train, num_categories)\n",
        "y_valid = keras.utils.to_categorical(y_valid, num_categories)"
      ],
      "metadata": {
        "id": "eY4dywE0A7Aa"
      },
      "execution_count": null,
      "outputs": []
    },
    {
      "cell_type": "code",
      "source": [
        "y_train[:9]"
      ],
      "metadata": {
        "colab": {
          "base_uri": "https://localhost:8080/"
        },
        "id": "Vj5rc5uUBYDv",
        "outputId": "60a747ca-b270-4e53-f116-3aac77d55d0f"
      },
      "execution_count": null,
      "outputs": [
        {
          "output_type": "execute_result",
          "data": {
            "text/plain": [
              "array([[0., 0., 0., 0., 0., 1., 0., 0., 0., 0.],\n",
              "       [1., 0., 0., 0., 0., 0., 0., 0., 0., 0.],\n",
              "       [0., 0., 0., 0., 1., 0., 0., 0., 0., 0.],\n",
              "       [0., 1., 0., 0., 0., 0., 0., 0., 0., 0.],\n",
              "       [0., 0., 0., 0., 0., 0., 0., 0., 0., 1.],\n",
              "       [0., 0., 1., 0., 0., 0., 0., 0., 0., 0.],\n",
              "       [0., 1., 0., 0., 0., 0., 0., 0., 0., 0.],\n",
              "       [0., 0., 0., 1., 0., 0., 0., 0., 0., 0.],\n",
              "       [0., 1., 0., 0., 0., 0., 0., 0., 0., 0.]], dtype=float32)"
            ]
          },
          "metadata": {},
          "execution_count": 19
        }
      ]
    },
    {
      "cell_type": "markdown",
      "source": [
        "## 2. Creating the Model"
      ],
      "metadata": {
        "id": "aHxdudUaDijj"
      }
    },
    {
      "cell_type": "markdown",
      "source": [
        "Setelah data sudah dipersipkan, selanjutnya perlu membuat model yang akan ditrain menggunakan data tersebut. Untuk kali ini, model yang dibuat merupakan model simpel dengan beberapa layer. Model akan terdiri dari 3 bagaian utama:\n",
        "\n",
        "\n",
        "1.   An Input layer, untuk menerima data dalam expected format\n",
        "2.   Hidden layers, setiap layer tediri dari neuron-neuron. Setiap neuron punya pengaruh dalam prediksi model dengan weight-nya. Weight ini akan diupdate selama training untuk meningkatkan performa model dari feedback yang diberikan\n",
        "3.   An Output layer, memberikan nilai untuk prediksi model untuk citra yang diberikan\n",
        "\n",
        "\n"
      ],
      "metadata": {
        "id": "qsNAn21hDe_W"
      }
    },
    {
      "cell_type": "markdown",
      "source": [
        "Untuk memulai, digunakan keras sequantial model untuk membuat instance model."
      ],
      "metadata": {
        "id": "vubwSKn5FLfF"
      }
    },
    {
      "cell_type": "code",
      "source": [
        "from tensorflow.keras.models import Sequential\n",
        "\n",
        "# membuat instance\n",
        "model = Sequential()"
      ],
      "metadata": {
        "id": "Vmv41fZGDsC3"
      },
      "execution_count": null,
      "outputs": []
    },
    {
      "cell_type": "markdown",
      "source": [
        "Setelah itu, kita perlu menambahkan input layer. Layer ini bersifat densely connected, yang berarti setiap neuron dan weight nya akan mempengaruhi setiap neuron di layer berikutnya."
      ],
      "metadata": {
        "id": "CAhgCBm0FpJQ"
      }
    },
    {
      "cell_type": "code",
      "source": [
        "from tensorflow.keras.layers import Dense"
      ],
      "metadata": {
        "id": "E2QZcTk_Fj0D"
      },
      "execution_count": null,
      "outputs": []
    },
    {
      "cell_type": "markdown",
      "source": [
        "Argument:\n",
        "*   units merupakan jumlah neuron\n",
        "*   activation: jenis activation function yang digunakan. Kita menggunakan relu sebagai nonlinearity function\n",
        "*   input_shape: shape dari data yang akan masuk, disini berupa 1d array dengan 784 element\n",
        "\n",
        "\n"
      ],
      "metadata": {
        "id": "klm6Fr1Ej4YP"
      }
    },
    {
      "cell_type": "code",
      "source": [
        "model.add(Dense(units=512, activation='relu', input_shape=(784,)))"
      ],
      "metadata": {
        "id": "UG3DNqCkjuI8"
      },
      "execution_count": null,
      "outputs": []
    },
    {
      "cell_type": "markdown",
      "source": [
        "Selanjutnya perlu menambahkan hidden layer yang juga bersifat densely connected."
      ],
      "metadata": {
        "id": "Mxl97eE5kr7Y"
      }
    },
    {
      "cell_type": "code",
      "source": [
        "model.add(Dense(units=512, activation='relu'))"
      ],
      "metadata": {
        "id": "vikMmlyAj3dO"
      },
      "execution_count": null,
      "outputs": []
    },
    {
      "cell_type": "markdown",
      "source": [
        "Selanjutnya menambahkan layer terakhir yaitu output layer. Layer ini menggunakan activation function softmax yang akan menghasilkan probabilitas antara 0 dan 1 untuk setiap unit."
      ],
      "metadata": {
        "id": "3WsN0pjMk8Wu"
      }
    },
    {
      "cell_type": "code",
      "source": [
        "model.add(Dense(units = 10, activation='softmax'))"
      ],
      "metadata": {
        "id": "qmDf5bBlk7R_"
      },
      "execution_count": null,
      "outputs": []
    },
    {
      "cell_type": "code",
      "source": [
        "model.summary()"
      ],
      "metadata": {
        "colab": {
          "base_uri": "https://localhost:8080/"
        },
        "id": "85L4lcROlaMi",
        "outputId": "205bbce1-4024-4123-ed1f-b532fe3f67c5"
      },
      "execution_count": null,
      "outputs": [
        {
          "output_type": "stream",
          "name": "stdout",
          "text": [
            "Model: \"sequential\"\n",
            "_________________________________________________________________\n",
            " Layer (type)                Output Shape              Param #   \n",
            "=================================================================\n",
            " dense (Dense)               (None, 512)               401920    \n",
            "                                                                 \n",
            " dense_1 (Dense)             (None, 512)               262656    \n",
            "                                                                 \n",
            " dense_2 (Dense)             (None, 10)                5130      \n",
            "                                                                 \n",
            "=================================================================\n",
            "Total params: 669,706\n",
            "Trainable params: 669,706\n",
            "Non-trainable params: 0\n",
            "_________________________________________________________________\n"
          ]
        }
      ]
    },
    {
      "cell_type": "markdown",
      "source": [
        "Sebelum melakukan training, model perlu dicompile untuk menspesifikasikan jenis loss dan metrics performa yang digunakan. Digunakan categorical_crossentropy karena permasalahan kita merupakan multiclass classification. Metrics yang digunakan yaitu akurasi"
      ],
      "metadata": {
        "id": "hlDVtr5-lpM8"
      }
    },
    {
      "cell_type": "code",
      "source": [
        "model.compile(loss='categorical_crossentropy', metrics=['accuracy'])"
      ],
      "metadata": {
        "id": "tuQ2HRXRlc2A"
      },
      "execution_count": null,
      "outputs": []
    },
    {
      "cell_type": "markdown",
      "source": [
        "## Training the Model"
      ],
      "metadata": {
        "id": "oWGL8sAAmADS"
      }
    },
    {
      "cell_type": "markdown",
      "source": [
        "Training model dengan data seringkali disebut juga fitting sebuah model ke data. Ketika training, nilai dari weights akan disesuaikan supaya mendaptkan loss yang minimum\n",
        "\n",
        "Untuk training dapat menggunakan Keras model fit memthod. Method ini expect arguments berikut:\n",
        "\n",
        "\n",
        "*   Data training\n",
        "*   Label untuk data training\n",
        "\n",
        "*   Epoch (berapa kali harus ditrain pada keseluruhan training dataset)\n",
        "*   Validation/test data, beserta labelnya\n",
        "\n",
        "\n",
        "\n"
      ],
      "metadata": {
        "id": "GyBuvWummJCQ"
      }
    },
    {
      "cell_type": "code",
      "source": [
        "history = model.fit(x_train, y_train, epochs=5, verbose=1, validation_data=(x_valid, y_valid))"
      ],
      "metadata": {
        "colab": {
          "base_uri": "https://localhost:8080/"
        },
        "id": "1R-FpYKAloco",
        "outputId": "cbdd72c2-c862-4b85-aceb-91a60a68d852"
      },
      "execution_count": null,
      "outputs": [
        {
          "output_type": "stream",
          "name": "stdout",
          "text": [
            "Epoch 1/5\n",
            "1875/1875 [==============================] - 20s 10ms/step - loss: 0.1894 - accuracy: 0.9442 - val_loss: 0.1102 - val_accuracy: 0.9694\n",
            "Epoch 2/5\n",
            "1875/1875 [==============================] - 18s 10ms/step - loss: 0.0972 - accuracy: 0.9743 - val_loss: 0.1284 - val_accuracy: 0.9723\n",
            "Epoch 3/5\n",
            "1875/1875 [==============================] - 18s 10ms/step - loss: 0.0824 - accuracy: 0.9799 - val_loss: 0.1254 - val_accuracy: 0.9701\n",
            "Epoch 4/5\n",
            "1875/1875 [==============================] - 18s 10ms/step - loss: 0.0730 - accuracy: 0.9833 - val_loss: 0.1181 - val_accuracy: 0.9789\n",
            "Epoch 5/5\n",
            "1875/1875 [==============================] - 19s 10ms/step - loss: 0.0611 - accuracy: 0.9861 - val_loss: 0.1323 - val_accuracy: 0.9795\n"
          ]
        }
      ]
    },
    {
      "cell_type": "markdown",
      "source": [
        "Setelah model ditrain, terlihat bahwa kedua akurasi pada training data dan akurasi pada validation data sangat tinggi dan tidak memiliki gap yang jauh. Model tergolong \"good fit\" sehingga dapat digunakan untuk mengklasifikasikan handwritten images secara akurat.\n",
        "\n",
        "Pada lab selanjutnya, model ini akan digunakan untuk melakukan klasifikasi pada handwritten images yang belum pernah dilihat sebelumnya. Proses ini disebut inference"
      ],
      "metadata": {
        "id": "dtz1BTndnIMm"
      }
    }
  ]
}